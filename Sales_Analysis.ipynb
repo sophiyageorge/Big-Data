{
  "nbformat": 4,
  "nbformat_minor": 0,
  "metadata": {
    "colab": {
      "provenance": []
    },
    "kernelspec": {
      "name": "python3",
      "display_name": "Python 3"
    },
    "language_info": {
      "name": "python"
    }
  },
  "cells": [
    {
      "cell_type": "markdown",
      "source": [
        "#Sales Analysis Project in Spark"
      ],
      "metadata": {
        "id": "dRaZXBCrajTq"
      }
    },
    {
      "cell_type": "code",
      "execution_count": null,
      "metadata": {
        "id": "t14NNJdjZ_M7"
      },
      "outputs": [],
      "source": [
        "# import required pyspark SQL data types for defining schema\n",
        "from pyspark.sql.types import *\n",
        "from pyspark.sql import SparkSession\n",
        "# Define a schema (structure) for the sales data with columns names and types\n",
        "schema = StructType([\n",
        "    StructField(\"product_id\",IntegerType(),True),\n",
        "    StructField(\"customer_id\",StringType(),True),\n",
        "    StructField(\"order_data\",DateType(),True),\n",
        "    StructField(\"location\",StringType(),True),\n",
        "    StructField(\"source_order\",StringType(),True)\n",
        "\n",
        "])\n",
        "\n",
        "\n",
        "\n"
      ]
    },
    {
      "cell_type": "code",
      "source": [
        "# create spark session\n",
        "spark = SparkSession.builder.appName(\"sales_analysis\").getOrCreate()\n"
      ],
      "metadata": {
        "id": "g6wjuhLfcMfq"
      },
      "execution_count": null,
      "outputs": []
    },
    {
      "cell_type": "code",
      "source": [
        "# read the sales data from a csv file into DataFrame\n",
        "sales_df = spark.read.format(\"csv\").option(\"inferschema\",\"true\").schema(schema).load(\"sales.csv.txt\")\n",
        "\n",
        "sales_df.show()"
      ],
      "metadata": {
        "colab": {
          "base_uri": "https://localhost:8080/"
        },
        "id": "PqT9DEYTbiU4",
        "outputId": "40861343-2259-4cad-aeb4-a15d93a72cae"
      },
      "execution_count": null,
      "outputs": [
        {
          "output_type": "stream",
          "name": "stdout",
          "text": [
            "+----------+-----------+----------+--------+------------+\n",
            "|product_id|customer_id|order_data|location|source_order|\n",
            "+----------+-----------+----------+--------+------------+\n",
            "|         1|          A|2023-01-01|   India|      Swiggy|\n",
            "|         2|          A|2022-01-01|   India|      Swiggy|\n",
            "|         2|          A|2023-01-07|   India|      Swiggy|\n",
            "|         3|          A|2023-01-10|   India|  Restaurant|\n",
            "|         3|          A|2022-01-11|   India|      Swiggy|\n",
            "|         3|          A|2023-01-11|   India|  Restaurant|\n",
            "|         2|          B|2022-02-01|   India|      Swiggy|\n",
            "|         2|          B|2023-01-02|   India|      Swiggy|\n",
            "|         1|          B|2023-01-04|   India|  Restaurant|\n",
            "|         1|          B|2023-02-11|   India|      Swiggy|\n",
            "|         3|          B|2023-01-16|   India|      zomato|\n",
            "|         3|          B|2022-02-01|   India|      zomato|\n",
            "|         3|          C|2023-01-01|   India|      zomato|\n",
            "|         1|          C|2023-01-01|      UK|      Swiggy|\n",
            "|         6|          C|2022-01-07|      UK|      zomato|\n",
            "|         3|          D|2023-02-16|      UK|  Restaurant|\n",
            "|         5|          D|2022-02-01|      UK|      zomato|\n",
            "|         3|          E|2023-02-01|      UK|  Restaurant|\n",
            "|         4|          E|2023-02-01|      UK|      Swiggy|\n",
            "|         4|          E|2023-02-07|      UK|  Restaurant|\n",
            "+----------+-----------+----------+--------+------------+\n",
            "only showing top 20 rows\n",
            "\n"
          ]
        }
      ]
    },
    {
      "cell_type": "code",
      "source": [
        "# shape of data\n",
        "shape = (sales_df.count(),len(sales_df.columns))\n",
        "shape"
      ],
      "metadata": {
        "colab": {
          "base_uri": "https://localhost:8080/"
        },
        "id": "ZsOexRW6dDNL",
        "outputId": "3c7a2f84-9f50-4805-80af-bb26b4d713bc"
      },
      "execution_count": null,
      "outputs": [
        {
          "output_type": "execute_result",
          "data": {
            "text/plain": [
              "(117, 5)"
            ]
          },
          "metadata": {},
          "execution_count": 5
        }
      ]
    },
    {
      "cell_type": "code",
      "source": [
        "# derive yearly,monthly and quarterly sales\n",
        "from pyspark.sql.functions import month,year,quarter\n",
        "\n",
        "sales_df = sales_df.withColumn(\"order_year\",year(sales_df.order_data))\n",
        "sales_df = sales_df.withColumn(\"order_month\",month(sales_df.order_data))\n",
        "sales_df = sales_df.withColumn(\"order_quarter\",quarter(sales_df.order_data))\n",
        "\n",
        "sales_df.show()\n"
      ],
      "metadata": {
        "colab": {
          "base_uri": "https://localhost:8080/"
        },
        "id": "suue8Voldv5I",
        "outputId": "052841a8-bb52-4b92-96f1-4448be897691"
      },
      "execution_count": null,
      "outputs": [
        {
          "output_type": "stream",
          "name": "stdout",
          "text": [
            "+----------+-----------+----------+--------+------------+----------+-----------+-------------+\n",
            "|product_id|customer_id|order_data|location|source_order|order_year|order_month|order_quarter|\n",
            "+----------+-----------+----------+--------+------------+----------+-----------+-------------+\n",
            "|         1|          A|2023-01-01|   India|      Swiggy|      2023|          1|            1|\n",
            "|         2|          A|2022-01-01|   India|      Swiggy|      2022|          1|            1|\n",
            "|         2|          A|2023-01-07|   India|      Swiggy|      2023|          1|            1|\n",
            "|         3|          A|2023-01-10|   India|  Restaurant|      2023|          1|            1|\n",
            "|         3|          A|2022-01-11|   India|      Swiggy|      2022|          1|            1|\n",
            "|         3|          A|2023-01-11|   India|  Restaurant|      2023|          1|            1|\n",
            "|         2|          B|2022-02-01|   India|      Swiggy|      2022|          2|            1|\n",
            "|         2|          B|2023-01-02|   India|      Swiggy|      2023|          1|            1|\n",
            "|         1|          B|2023-01-04|   India|  Restaurant|      2023|          1|            1|\n",
            "|         1|          B|2023-02-11|   India|      Swiggy|      2023|          2|            1|\n",
            "|         3|          B|2023-01-16|   India|      zomato|      2023|          1|            1|\n",
            "|         3|          B|2022-02-01|   India|      zomato|      2022|          2|            1|\n",
            "|         3|          C|2023-01-01|   India|      zomato|      2023|          1|            1|\n",
            "|         1|          C|2023-01-01|      UK|      Swiggy|      2023|          1|            1|\n",
            "|         6|          C|2022-01-07|      UK|      zomato|      2022|          1|            1|\n",
            "|         3|          D|2023-02-16|      UK|  Restaurant|      2023|          2|            1|\n",
            "|         5|          D|2022-02-01|      UK|      zomato|      2022|          2|            1|\n",
            "|         3|          E|2023-02-01|      UK|  Restaurant|      2023|          2|            1|\n",
            "|         4|          E|2023-02-01|      UK|      Swiggy|      2023|          2|            1|\n",
            "|         4|          E|2023-02-07|      UK|  Restaurant|      2023|          2|            1|\n",
            "+----------+-----------+----------+--------+------------+----------+-----------+-------------+\n",
            "only showing top 20 rows\n",
            "\n"
          ]
        }
      ]
    },
    {
      "cell_type": "markdown",
      "source": [
        "create a dataframe for menu.csv dataset"
      ],
      "metadata": {
        "id": "ICYf0HinfEpt"
      }
    },
    {
      "cell_type": "code",
      "source": [
        "schema_menu = StructType(\n",
        "    [\n",
        "       StructField(\"product_id\",IntegerType(),True),\n",
        "       StructField(\"product_name\",StringType(),True),\n",
        "       StructField(\"price\",DoubleType(),True)\n",
        "    ]\n",
        ")\n",
        "\n",
        "menu_df = spark.read.format(\"csv\").schema(schema_menu).load(r\"menu.csv.txt\")\n",
        "menu_df.show()"
      ],
      "metadata": {
        "colab": {
          "base_uri": "https://localhost:8080/"
        },
        "id": "nhXO5bRRez4T",
        "outputId": "6d2db2ab-a280-43ed-b823-7d205243c7a4"
      },
      "execution_count": null,
      "outputs": [
        {
          "output_type": "stream",
          "name": "stdout",
          "text": [
            "+----------+------------+-----+\n",
            "|product_id|product_name|price|\n",
            "+----------+------------+-----+\n",
            "|         1|       PIZZA|100.0|\n",
            "|         2|     Chowmin|150.0|\n",
            "|         3|    sandwich|120.0|\n",
            "|         4|        Dosa|110.0|\n",
            "|         5|     Biryani| 80.0|\n",
            "|         6|       Pasta|180.0|\n",
            "+----------+------------+-----+\n",
            "\n"
          ]
        }
      ]
    },
    {
      "cell_type": "markdown",
      "source": [
        "Analysis"
      ],
      "metadata": {
        "id": "qwHU1CHGgErz"
      }
    },
    {
      "cell_type": "code",
      "source": [
        "# Total amount spent by each customer\n",
        "total_by_customer = sales_df.join(menu_df,\"product_id\").groupBy(\"Customer_id\").agg({\"price\":\"sum\"}).orderBy(\"Customer_id\")\n",
        "\n",
        "total_by_customer.show()"
      ],
      "metadata": {
        "colab": {
          "base_uri": "https://localhost:8080/"
        },
        "id": "MDDzWJ-Ogk58",
        "outputId": "c2422a77-a0b0-4d54-9923-1d8e4fed6bc1"
      },
      "execution_count": null,
      "outputs": [
        {
          "output_type": "stream",
          "name": "stdout",
          "text": [
            "+-----------+----------+\n",
            "|Customer_id|sum(price)|\n",
            "+-----------+----------+\n",
            "|          A|    4260.0|\n",
            "|          B|    4440.0|\n",
            "|          C|    2400.0|\n",
            "|          D|    1200.0|\n",
            "|          E|    2040.0|\n",
            "+-----------+----------+\n",
            "\n"
          ]
        }
      ]
    },
    {
      "cell_type": "code",
      "source": [
        "# plot total amount spent by each customer\n",
        "import matplotlib.pyplot as plt\n",
        "\n",
        "total_by_customer_pd  =total_by_customer.toPandas()\n",
        "total_by_customer_pd.plot(kind=\"area\",x='Customer_id',y='sum(price)',figsize=(5,3))\n",
        "\n",
        "plt.title(\"Total Amount Spent By Customer\")\n",
        "plt.xlabel(\"Customer ID\")\n",
        "plt.ylabel(\"Amount\")\n",
        "plt.xticks(rotation=45)\n",
        "plt.grid(False)\n",
        "plt.tight_layout()\n",
        "plt.show()"
      ],
      "metadata": {
        "colab": {
          "base_uri": "https://localhost:8080/",
          "height": 307
        },
        "id": "mXHyyoe1sEgH",
        "outputId": "765c85fa-8a32-4915-f40a-700e44a47344"
      },
      "execution_count": null,
      "outputs": [
        {
          "output_type": "display_data",
          "data": {
            "text/plain": [
              "<Figure size 500x300 with 1 Axes>"
            ],
            "image/png": "[encoded data removed]"
          },
          "metadata": {}
        }
      ]
    },
    {
      "cell_type": "code",
      "source": [
        "# Total amount spent in each food category\n",
        "total_by_food_category = sales_df.join(menu_df,\"Product_id\").groupBy(\"Product_name\").agg({\"price\":\"sum\"}).orderBy(\"Product_name\")\n",
        "total_by_food_category.show()"
      ],
      "metadata": {
        "colab": {
          "base_uri": "https://localhost:8080/"
        },
        "id": "Td2GfeAhtURL",
        "outputId": "053e5d02-3a3a-4c90-dbce-f87159b59596"
      },
      "execution_count": null,
      "outputs": [
        {
          "output_type": "stream",
          "name": "stdout",
          "text": [
            "+------------+----------+\n",
            "|Product_name|sum(price)|\n",
            "+------------+----------+\n",
            "|     Biryani|     480.0|\n",
            "|     Chowmin|    3600.0|\n",
            "|        Dosa|    1320.0|\n",
            "|       PIZZA|    2100.0|\n",
            "|       Pasta|    1080.0|\n",
            "|    sandwich|    5760.0|\n",
            "+------------+----------+\n",
            "\n"
          ]
        }
      ]
    },
    {
      "cell_type": "code",
      "source": [
        "# plot total amount spent by food category\n",
        "total_by_food_category_pd = total_by_food_category.toPandas()\n",
        "total_by_food_category_pd.plot(kind='bar',x='Product_name',y='sum(price)',figsize=(5,3),color='green')\n",
        "\n",
        "plt.title('Total Amount By Food Category')\n",
        "plt.xlabel('Amount')\n",
        "plt.ylabel(\"Product\")\n",
        "plt.xticks(rotation=45)\n",
        "plt.grid(False)\n",
        "plt.tight_layout()\n",
        "plt.show()"
      ],
      "metadata": {
        "colab": {
          "base_uri": "https://localhost:8080/",
          "height": 307
        },
        "id": "eCCSLKsKuADf",
        "outputId": "c11587f7-e4cd-4522-9fdc-c8c5e8525f2a"
      },
      "execution_count": null,
      "outputs": [
        {
          "output_type": "display_data",
          "data": {
            "text/plain": [
              "<Figure size 500x300 with 1 Axes>"
            ],
            "image/png": "[encoded data removed]"
          },
          "metadata": {}
        }
      ]
    },
    {
      "cell_type": "code",
      "source": [
        "# monthly sales\n",
        "total_amount_by_month = sales_df.join(menu_df,\"product_id\").groupBy(\"order_month\").agg({\"price\":\"sum\"}).orderBy(\"order_month\")\n",
        "total_amount_by_month.show()\n"
      ],
      "metadata": {
        "colab": {
          "base_uri": "https://localhost:8080/"
        },
        "id": "o_fnWHbfvNaU",
        "outputId": "489369dc-753b-4b04-d37f-247ced95d378"
      },
      "execution_count": null,
      "outputs": [
        {
          "output_type": "stream",
          "name": "stdout",
          "text": [
            "+-----------+----------+\n",
            "|order_month|sum(price)|\n",
            "+-----------+----------+\n",
            "|          1|    2960.0|\n",
            "|          2|    2730.0|\n",
            "|          3|     910.0|\n",
            "|          5|    2960.0|\n",
            "|          6|    2960.0|\n",
            "|          7|     910.0|\n",
            "|         11|     910.0|\n",
            "+-----------+----------+\n",
            "\n"
          ]
        }
      ]
    },
    {
      "cell_type": "code",
      "source": [
        "# plot monthly data\n",
        "total_amount_by_month_pd = total_amount_by_month.toPandas()\n",
        "total_amount_by_month_pd.plot(kind=\"bar\",x=\"order_month\",y='sum(price)',figsize=(5,3))\n",
        "\n",
        "plt.title('Total Amount By Month')\n",
        "plt.xlabel('Amount')\n",
        "plt.ylabel('month')\n",
        "plt.xticks(rotation=45)\n",
        "plt.grid(False)\n",
        "plt.tight_layout()\n",
        "plt.show()"
      ],
      "metadata": {
        "colab": {
          "base_uri": "https://localhost:8080/",
          "height": 307
        },
        "id": "f38CAcujknsd",
        "outputId": "ca2307fd-b897-4390-ae4b-cd609f3f5310"
      },
      "execution_count": null,
      "outputs": [
        {
          "output_type": "display_data",
          "data": {
            "text/plain": [
              "<Figure size 500x300 with 1 Axes>"
            ],
            "image/png": "[encoded data removed]"
          },
          "metadata": {}
        }
      ]
    },
    {
      "cell_type": "code",
      "source": [
        "# yearly sales\n",
        "total_amount_by_year = sales_df.join(menu_df,\"product_id\").groupBy(\"order_year\").agg({\"price\":\"sum\"}).orderBy(\"order_year\")\n",
        "total_amount_by_year.show()"
      ],
      "metadata": {
        "colab": {
          "base_uri": "https://localhost:8080/"
        },
        "id": "RGHc2Iu3cgaZ",
        "outputId": "9612c46b-7340-4f94-bcd6-8ed231c865e4"
      },
      "execution_count": null,
      "outputs": [
        {
          "output_type": "stream",
          "name": "stdout",
          "text": [
            "+----------+----------+\n",
            "|order_year|sum(price)|\n",
            "+----------+----------+\n",
            "|      2022|    4350.0|\n",
            "|      2023|    9990.0|\n",
            "+----------+----------+\n",
            "\n"
          ]
        }
      ]
    },
    {
      "cell_type": "code",
      "source": [
        "# plot Yearly data\n",
        "total_amount_by_year_pd = total_amount_by_year.toPandas()\n",
        "total_amount_by_year_pd.plot(kind=\"bar\",x=\"order_year\",y='sum(price)',figsize=(5,3))\n",
        "\n",
        "plt.title('Total Amount By Year')\n",
        "plt.xlabel('Amount')\n",
        "plt.ylabel('Year')\n",
        "plt.xticks(rotation=45)\n",
        "plt.grid(False)\n",
        "plt.tight_layout()\n",
        "plt.show()"
      ],
      "metadata": {
        "colab": {
          "base_uri": "https://localhost:8080/",
          "height": 307
        },
        "id": "DjLKKG6Vc9a1",
        "outputId": "c06aa0a2-3389-42b4-d5a1-0eaf51f5053a"
      },
      "execution_count": null,
      "outputs": [
        {
          "output_type": "display_data",
          "data": {
            "text/plain": [
              "<Figure size 500x300 with 1 Axes>"
            ],
            "image/png": "[encoded data removed]"
          },
          "metadata": {}
        }
      ]
    },
    {
      "cell_type": "code",
      "source": [
        "# Quarterly Sales\n",
        "total_amount_by_quarter = sales_df.join(menu_df,\"product_id\").groupBy(\"order_quarter\").agg({\"price\":\"sum\"}).orderBy(\"order_quarter\")\n",
        "total_amount_by_quarter.show()"
      ],
      "metadata": {
        "colab": {
          "base_uri": "https://localhost:8080/"
        },
        "id": "zuKo0W9ydQMS",
        "outputId": "3b721292-8ed3-4125-de83-e67c33d0b46c"
      },
      "execution_count": null,
      "outputs": [
        {
          "output_type": "stream",
          "name": "stdout",
          "text": [
            "+-------------+----------+\n",
            "|order_quarter|sum(price)|\n",
            "+-------------+----------+\n",
            "|            1|    6600.0|\n",
            "|            2|    5920.0|\n",
            "|            3|     910.0|\n",
            "|            4|     910.0|\n",
            "+-------------+----------+\n",
            "\n"
          ]
        }
      ]
    },
    {
      "cell_type": "code",
      "source": [
        "# pie chart for quarterly sales\n",
        "total_amount_by_quarter_pd = total_amount_by_quarter.toPandas()\n",
        "\n",
        "# plotting pie chart\n",
        "plt.figure(figsize=(3,3))\n",
        "plt.pie(total_amount_by_quarter_pd['sum(price)'],labels=total_amount_by_quarter_pd['order_quarter'], autopct='%1.1f%%')\n",
        "plt.title('Total Amount by Quarter')\n",
        "plt.axis('equal')\n",
        "plt.show()"
      ],
      "metadata": {
        "colab": {
          "base_uri": "https://localhost:8080/",
          "height": 290
        },
        "id": "8485cofOdumr",
        "outputId": "77d4337e-16db-4410-d5cc-2f66f81b632b"
      },
      "execution_count": null,
      "outputs": [
        {
          "output_type": "display_data",
          "data": {
            "text/plain": [
              "<Figure size 300x300 with 1 Axes>"
            ],
            "image/png": "[encoded data removed]"
          },
          "metadata": {}
        }
      ]
    },
    {
      "cell_type": "code",
      "source": [
        "# Total number of orders in each category\n",
        "from pyspark.sql.functions import *\n",
        "total_order = sales_df.join(menu_df,\"product_id\").groupBy(\"product_name\").agg(count(\"product_id\").alias('product_count')).orderBy('product_count',ascending=0)\n",
        "total_order.show()"
      ],
      "metadata": {
        "colab": {
          "base_uri": "https://localhost:8080/"
        },
        "id": "KTlVH38ueprA",
        "outputId": "351aff6d-3167-460c-b7ca-f395b8f7958b"
      },
      "execution_count": null,
      "outputs": [
        {
          "output_type": "stream",
          "name": "stdout",
          "text": [
            "+------------+-------------+\n",
            "|product_name|product_count|\n",
            "+------------+-------------+\n",
            "|    sandwich|           48|\n",
            "|     Chowmin|           24|\n",
            "|       PIZZA|           21|\n",
            "|        Dosa|           12|\n",
            "|       Pasta|            6|\n",
            "|     Biryani|            6|\n",
            "+------------+-------------+\n",
            "\n"
          ]
        }
      ]
    },
    {
      "cell_type": "code",
      "source": [
        "# top 5 ordered items\n",
        "top_5 = total_order.limit(5)\n",
        "top_5.show()"
      ],
      "metadata": {
        "colab": {
          "base_uri": "https://localhost:8080/"
        },
        "id": "2Mfu_q0cflx5",
        "outputId": "7f9e940d-eaa7-4988-aaff-fa121058fe04"
      },
      "execution_count": null,
      "outputs": [
        {
          "output_type": "stream",
          "name": "stdout",
          "text": [
            "+------------+-------------+\n",
            "|product_name|product_count|\n",
            "+------------+-------------+\n",
            "|    sandwich|           48|\n",
            "|     Chowmin|           24|\n",
            "|       PIZZA|           21|\n",
            "|        Dosa|           12|\n",
            "|       Pasta|            6|\n",
            "+------------+-------------+\n",
            "\n"
          ]
        }
      ]
    },
    {
      "cell_type": "code",
      "source": [
        "# Frequaency of customer's visits\n",
        "\n",
        "\n",
        "\n",
        "frequency = sales_df.filter(sales_df.source_order=='Restaurant').groupBy('customer_id').agg(countDistinct('order_data').alias('number_of_visits')).orderBy('number_of_visits')\n",
        "\n",
        "frequency.show()\n"
      ],
      "metadata": {
        "colab": {
          "base_uri": "https://localhost:8080/"
        },
        "id": "Nw-AXr24iRlX",
        "outputId": "d545930f-5ade-4292-9726-40440f53dcc3"
      },
      "execution_count": null,
      "outputs": [
        {
          "output_type": "stream",
          "name": "stdout",
          "text": [
            "+-----------+----------------+\n",
            "|customer_id|number_of_visits|\n",
            "+-----------+----------------+\n",
            "|          D|               1|\n",
            "|          C|               3|\n",
            "|          E|               5|\n",
            "|          B|               6|\n",
            "|          A|               6|\n",
            "+-----------+----------------+\n",
            "\n"
          ]
        }
      ]
    },
    {
      "cell_type": "code",
      "source": [
        "# Total sales by location\n",
        "total_by_location = sales_df.join(menu_df,'product_id').groupBy(\"Location\").agg({\"price\":\"sum\"}).orderBy('sum(price)',ascending=0)\n",
        "\n",
        "total_by_location.show()"
      ],
      "metadata": {
        "colab": {
          "base_uri": "https://localhost:8080/"
        },
        "id": "2wW8ip_xnyoE",
        "outputId": "ce694efd-6115-4ae4-e5af-c4fabf83debc"
      },
      "execution_count": null,
      "outputs": [
        {
          "output_type": "stream",
          "name": "stdout",
          "text": [
            "+--------+----------+\n",
            "|Location|sum(price)|\n",
            "+--------+----------+\n",
            "|      UK|    7020.0|\n",
            "|   India|    4860.0|\n",
            "|     USA|    2460.0|\n",
            "+--------+----------+\n",
            "\n"
          ]
        }
      ]
    },
    {
      "cell_type": "code",
      "source": [
        "# Total sales by order source\n",
        "total_by_source = sales_df.join(menu_df,\"product_id\").groupBy('Source_order').agg({\"price\":\"sum\"}).orderBy('sum(price)',ascending=0)\n",
        "total_by_source.show()"
      ],
      "metadata": {
        "colab": {
          "base_uri": "https://localhost:8080/"
        },
        "id": "VAUe8YLZo7F6",
        "outputId": "468dae59-71df-4a11-e008-354c07d17e38"
      },
      "execution_count": null,
      "outputs": [
        {
          "output_type": "stream",
          "name": "stdout",
          "text": [
            "+------------+----------+\n",
            "|Source_order|sum(price)|\n",
            "+------------+----------+\n",
            "|      Swiggy|    6330.0|\n",
            "|      zomato|    4920.0|\n",
            "|  Restaurant|    3090.0|\n",
            "+------------+----------+\n",
            "\n"
          ]
        }
      ]
    },
    {
      "cell_type": "code",
      "source": [],
      "metadata": {
        "id": "N82hU1H3p4W7"
      },
      "execution_count": null,
      "outputs": []
    }
  ]
}